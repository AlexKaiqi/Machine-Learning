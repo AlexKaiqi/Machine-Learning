{
 "cells": [
  {
   "cell_type": "markdown",
   "metadata": {},
   "source": [
    "# K-means"
   ]
  },
  {
   "cell_type": "code",
   "execution_count": 1,
   "metadata": {},
   "outputs": [],
   "source": [
    "import matplotlib.pyplot as plt\n",
    "import pandas as pd\n",
    "import scipy.io as sio\n",
    "import numpy as np"
   ]
  },
  {
   "cell_type": "code",
   "execution_count": 2,
   "metadata": {},
   "outputs": [],
   "source": [
    "mat = sio.loadmat('ex7data2.mat')"
   ]
  },
  {
   "cell_type": "code",
   "execution_count": 3,
   "metadata": {},
   "outputs": [],
   "source": [
    "data = pd.DataFrame(mat.get('X'), columns=['X1', 'X2'])"
   ]
  },
  {
   "cell_type": "code",
   "execution_count": 4,
   "metadata": {},
   "outputs": [
    {
     "data": {
      "text/html": [
       "<div>\n",
       "<style scoped>\n",
       "    .dataframe tbody tr th:only-of-type {\n",
       "        vertical-align: middle;\n",
       "    }\n",
       "\n",
       "    .dataframe tbody tr th {\n",
       "        vertical-align: top;\n",
       "    }\n",
       "\n",
       "    .dataframe thead th {\n",
       "        text-align: right;\n",
       "    }\n",
       "</style>\n",
       "<table border=\"1\" class=\"dataframe\">\n",
       "  <thead>\n",
       "    <tr style=\"text-align: right;\">\n",
       "      <th></th>\n",
       "      <th>X1</th>\n",
       "      <th>X2</th>\n",
       "    </tr>\n",
       "  </thead>\n",
       "  <tbody>\n",
       "    <tr>\n",
       "      <th>41</th>\n",
       "      <td>2.591486</td>\n",
       "      <td>4.925934</td>\n",
       "    </tr>\n",
       "    <tr>\n",
       "      <th>110</th>\n",
       "      <td>2.879611</td>\n",
       "      <td>0.754137</td>\n",
       "    </tr>\n",
       "    <tr>\n",
       "      <th>253</th>\n",
       "      <td>6.927220</td>\n",
       "      <td>3.199600</td>\n",
       "    </tr>\n",
       "  </tbody>\n",
       "</table>\n",
       "</div>"
      ],
      "text/plain": [
       "           X1        X2\n",
       "41   2.591486  4.925934\n",
       "110  2.879611  0.754137\n",
       "253  6.927220  3.199600"
      ]
     },
     "execution_count": 4,
     "metadata": {},
     "output_type": "execute_result"
    }
   ],
   "source": [
    "data.sample(3)"
   ]
  },
  {
   "cell_type": "code",
   "execution_count": 5,
   "metadata": {},
   "outputs": [
    {
     "data": {
      "text/plain": [
       "<matplotlib.collections.PathCollection at 0x7f95e22afda0>"
      ]
     },
     "execution_count": 5,
     "metadata": {},
     "output_type": "execute_result"
    },
    {
     "data": {
      "image/png": "[encoded data removed]",
      "text/plain": [
       "<Figure size 432x288 with 1 Axes>"
      ]
     },
     "metadata": {},
     "output_type": "display_data"
    }
   ],
   "source": [
    "plt.scatter(data.X1, data.X2)"
   ]
  },
  {
   "cell_type": "markdown",
   "metadata": {},
   "source": [
    "### Helper functions"
   ]
  },
  {
   "cell_type": "code",
   "execution_count": 6,
   "metadata": {},
   "outputs": [],
   "source": [
    "def combine_data_C(data, C):\n",
    "    \"\"\"combine C (centoid number which a sample belongs to) with data\"\"\"\n",
    "    data_with_c = data.copy()\n",
    "    data_with_c['C'] = C\n",
    "    return data_with_c\n",
    "\n",
    "def cost(data, centroids, C):\n",
    "    \"\"\"calculate cost of current cluster state\"\"\"\n",
    "    m = data.shape[0]\n",
    "    expand_C_with_centroids = centroids[C]\n",
    "    distances = np.apply_along_axis(np.linalg.norm, # this function returns l2 norm\n",
    "                                    axis=1, \n",
    "                                    arr=data.values - expand_C_with_centroids\n",
    "                                   )\n",
    "    return distances.sum() / m"
   ]
  },
  {
   "cell_type": "markdown",
   "metadata": {},
   "source": [
    "### Step 1: Randomly choose k centroids from data set"
   ]
  },
  {
   "cell_type": "code",
   "execution_count": 7,
   "metadata": {},
   "outputs": [],
   "source": [
    "def random_init(data, k):\n",
    "    return data.sample(k).values"
   ]
  },
  {
   "cell_type": "code",
   "execution_count": 8,
   "metadata": {},
   "outputs": [
    {
     "data": {
      "text/plain": [
       "array([[7.21684033, 2.72896575],\n",
       "       [7.24694794, 2.96877424],\n",
       "       [1.30882588, 5.30158701]])"
      ]
     },
     "execution_count": 8,
     "metadata": {},
     "output_type": "execute_result"
    }
   ],
   "source": [
    "init_centroids = random_init(data, 3)\n",
    "init_centroids"
   ]
  },
  {
   "cell_type": "markdown",
   "metadata": {},
   "source": [
    "### Step 2: Assign cluster "
   ]
  },
  {
   "cell_type": "code",
   "execution_count": 9,
   "metadata": {},
   "outputs": [],
   "source": [
    "def _find_your_cluster(x, centroids):\n",
    "    \"\"\"find which centoid the sample belongs to. choose the one with lowest l2 norm\"\"\"\n",
    "    distances = np.apply_along_axis(func1d=np.linalg.norm, # this function returns l2 norm\n",
    "                                    axis=1, \n",
    "                                    arr=centroids - x # numpy broadcast\n",
    "                                   )\n",
    "    return np.argmin(distances)\n",
    "\n",
    "def assign_cluster(data, centroids):\n",
    "    \"\"\"\n",
    "    assign cluster for each node in data.\n",
    "    \"\"\"\n",
    "    return np.apply_along_axis(lambda x: _find_your_cluster(x, centroids), \n",
    "                               axis=1, \n",
    "                               arr=data.values)"
   ]
  },
  {
   "cell_type": "code",
   "execution_count": 10,
   "metadata": {},
   "outputs": [
    {
     "name": "stdout",
     "output_type": "stream",
     "text": [
      "2.2012258388433406\n"
     ]
    },
    {
     "data": {
      "text/html": [
       "<div>\n",
       "<style scoped>\n",
       "    .dataframe tbody tr th:only-of-type {\n",
       "        vertical-align: middle;\n",
       "    }\n",
       "\n",
       "    .dataframe tbody tr th {\n",
       "        vertical-align: top;\n",
       "    }\n",
       "\n",
       "    .dataframe thead th {\n",
       "        text-align: right;\n",
       "    }\n",
       "</style>\n",
       "<table border=\"1\" class=\"dataframe\">\n",
       "  <thead>\n",
       "    <tr style=\"text-align: right;\">\n",
       "      <th></th>\n",
       "      <th>X1</th>\n",
       "      <th>X2</th>\n",
       "      <th>C</th>\n",
       "    </tr>\n",
       "  </thead>\n",
       "  <tbody>\n",
       "    <tr>\n",
       "      <th>79</th>\n",
       "      <td>0.363917</td>\n",
       "      <td>4.733328</td>\n",
       "      <td>2</td>\n",
       "    </tr>\n",
       "    <tr>\n",
       "      <th>211</th>\n",
       "      <td>6.641072</td>\n",
       "      <td>3.059987</td>\n",
       "      <td>1</td>\n",
       "    </tr>\n",
       "    <tr>\n",
       "      <th>81</th>\n",
       "      <td>2.286648</td>\n",
       "      <td>5.007670</td>\n",
       "      <td>2</td>\n",
       "    </tr>\n",
       "  </tbody>\n",
       "</table>\n",
       "</div>"
      ],
      "text/plain": [
       "           X1        X2  C\n",
       "79   0.363917  4.733328  2\n",
       "211  6.641072  3.059987  1\n",
       "81   2.286648  5.007670  2"
      ]
     },
     "execution_count": 10,
     "metadata": {},
     "output_type": "execute_result"
    }
   ],
   "source": [
    "C = assign_cluster(data, init_centroids)\n",
    "data_with_c = combine_data_C(data, C)\n",
    "print(cost(data, init_centroids, C))\n",
    "data_with_c.sample(3)"
   ]
  },
  {
   "cell_type": "markdown",
   "metadata": {},
   "source": [
    "### Step 3: Calculate new centroids "
   ]
  },
  {
   "cell_type": "code",
   "execution_count": 11,
   "metadata": {},
   "outputs": [],
   "source": [
    "def new_centroids(data, C):\n",
    "    \"\"\"calculate new centroids\"\"\"\n",
    "    data_with_c = combine_data_C(data, C)\n",
    "    return data_with_c.groupby('C', as_index=False).mean().sort_values(by='C').drop('C', axis=1).values\n"
   ]
  },
  {
   "cell_type": "code",
   "execution_count": 12,
   "metadata": {},
   "outputs": [
    {
     "name": "stdout",
     "output_type": "stream",
     "text": [
      "1.5634399363816218\n"
     ]
    },
    {
     "data": {
      "text/plain": [
       "array([[4.64835848, 1.83305548],\n",
       "       [6.30033012, 3.29828737],\n",
       "       [2.02602789, 3.87467426]])"
      ]
     },
     "execution_count": 12,
     "metadata": {},
     "output_type": "execute_result"
    }
   ],
   "source": [
    "centroids = new_centroids(data, C)\n",
    "print(cost(data, centroids, C))\n",
    "centroids"
   ]
  },
  {
   "cell_type": "markdown",
   "metadata": {},
   "source": [
    "# Iterate througn step 2 to step3"
   ]
  },
  {
   "cell_type": "code",
   "execution_count": 13,
   "metadata": {},
   "outputs": [],
   "source": [
    "def _k_means_iter(data, k, epoch=100, tol=0.0001):\n",
    "    \"\"\"one shot k-means with early break\n",
    "    Parameters:\n",
    "        data: DataFrame -> raw data\n",
    "        k: int -> number of clusters\n",
    "        epoch: int -> max number of iterations\n",
    "        tol: float -> improvement over last iteration\n",
    "    \"\"\"\n",
    "    centroids = random_init(data, k)\n",
    "    cost_progress = []\n",
    "    for i in range(epoch):\n",
    "        # cluster assign\n",
    "        C = assign_cluster(data, centroids)\n",
    "        \n",
    "        # calculate the cost \n",
    "        cost_progress.append(cost(data, centroids, C))\n",
    "        print('running epoch {}, {}'.format(i, cost_progress[-1]))\n",
    "        \n",
    "        # calculate new centroids\n",
    "        centroids = new_centroids(data, C)\n",
    "        \n",
    "        if len(cost_progress) > 1: # at least two iteration\n",
    "            if (np.abs(cost_progress[-1] - cost_progress[-2])) / cost_progress[-1] < tol: # nothing to improve\n",
    "                break\n",
    "        \n",
    "    return C, centroids, cost_progress[-1]"
   ]
  },
  {
   "cell_type": "code",
   "execution_count": 14,
   "metadata": {},
   "outputs": [
    {
     "name": "stdout",
     "output_type": "stream",
     "text": [
      "running epoch 0, 1.6501045770539493\n",
      "running epoch 1, 1.5079017139625026\n",
      "running epoch 2, 1.2927569408058568\n",
      "running epoch 3, 0.9496379585736439\n",
      "running epoch 4, 0.7973272652708293\n",
      "running epoch 5, 0.794176363371587\n",
      "running epoch 6, 0.794176363371587\n"
     ]
    },
    {
     "data": {
      "text/plain": [
       "<matplotlib.collections.PathCollection at 0x7f95de9b84a8>"
      ]
     },
     "execution_count": 14,
     "metadata": {},
     "output_type": "execute_result"
    },
    {
     "data": {
      "image/png": "[encoded data removed]",
      "text/plain": [
       "<Figure size 432x288 with 1 Axes>"
      ]
     },
     "metadata": {},
     "output_type": "display_data"
    }
   ],
   "source": [
    "C, centroids, _ = _k_means_iter(data, 3, 20)\n",
    "plt.scatter(data.X1, data.X2, s=8, c=C)"
   ]
  },
  {
   "cell_type": "markdown",
   "metadata": {},
   "source": [
    "## Multiple random initialization\n",
    "\n",
    "K-means might stuck in local optimal, so we need several random initialization to avoid that"
   ]
  },
  {
   "cell_type": "code",
   "execution_count": 15,
   "metadata": {},
   "outputs": [],
   "source": [
    "def k_means(data, k, epoch=100, n_init=10):\n",
    "    \"\"\"do multiple random init and pick the best one to return\"\"\"\n",
    "    tries = np.array([_k_means_iter(data, k, epoch) for _ in range(n_init)])\n",
    "    least_cost_idx = np.argmin(tries[:, -1])\n",
    "    return tries[least_cost_idx]"
   ]
  },
  {
   "cell_type": "code",
   "execution_count": 16,
   "metadata": {},
   "outputs": [
    {
     "name": "stdout",
     "output_type": "stream",
     "text": [
      "running epoch 0, 1.8060001974686182\n",
      "running epoch 1, 1.4265871043741287\n",
      "running epoch 2, 0.8656644608391237\n",
      "running epoch 3, 0.794176363371587\n",
      "running epoch 4, 0.794176363371587\n",
      "running epoch 0, 1.6884999901116915\n",
      "running epoch 1, 1.4800013735394328\n",
      "running epoch 2, 0.933092530426145\n",
      "running epoch 3, 0.7963778144203622\n",
      "running epoch 4, 0.794176363371587\n",
      "running epoch 5, 0.794176363371587\n",
      "running epoch 0, 1.8071193891418424\n",
      "running epoch 1, 0.8482134692549453\n",
      "running epoch 2, 0.7933529008645198\n",
      "running epoch 3, 0.794176363371587\n",
      "running epoch 4, 0.794176363371587\n",
      "running epoch 0, 1.0697828568963943\n",
      "running epoch 1, 0.794657388050982\n",
      "running epoch 2, 0.794176363371587\n",
      "running epoch 3, 0.794176363371587\n",
      "running epoch 0, 0.9890696603384606\n",
      "running epoch 1, 0.7933529008645198\n",
      "running epoch 2, 0.794176363371587\n",
      "running epoch 3, 0.794176363371587\n",
      "running epoch 0, 1.760606461252362\n",
      "running epoch 1, 1.0294014038206944\n",
      "running epoch 2, 0.8113410677713504\n",
      "running epoch 3, 0.7940418155436358\n",
      "running epoch 4, 0.794176363371587\n",
      "running epoch 5, 0.794176363371587\n",
      "running epoch 0, 2.7290652471890198\n",
      "running epoch 1, 1.784170170766747\n",
      "running epoch 2, 1.6677905265846396\n",
      "running epoch 3, 1.6489205934223732\n",
      "running epoch 4, 1.577349415723575\n",
      "running epoch 5, 1.1912129890975331\n",
      "running epoch 6, 0.801646422117907\n",
      "running epoch 7, 0.7942586649935018\n",
      "running epoch 8, 0.794176363371587\n",
      "running epoch 9, 0.794176363371587\n",
      "running epoch 0, 1.4856876512236674\n",
      "running epoch 1, 0.9496379585736439\n",
      "running epoch 2, 0.7973272652708293\n",
      "running epoch 3, 0.794176363371587\n",
      "running epoch 4, 0.794176363371587\n",
      "running epoch 0, 1.8962913156128494\n",
      "running epoch 1, 1.257568610829643\n",
      "running epoch 2, 0.9483376675245067\n",
      "running epoch 3, 0.7984655191402122\n",
      "running epoch 4, 0.7942955039607452\n",
      "running epoch 5, 0.794176363371587\n",
      "running epoch 6, 0.794176363371587\n",
      "running epoch 0, 1.663217233168498\n",
      "running epoch 1, 1.3846790572873553\n",
      "running epoch 2, 0.8113348390962479\n",
      "running epoch 3, 0.7942586649935018\n",
      "running epoch 4, 0.794176363371587\n",
      "running epoch 5, 0.794176363371587\n"
     ]
    },
    {
     "data": {
      "text/plain": [
       "array([array([1, 2, 2, 1, 1, 1, 1, 1, 1, 1, 1, 1, 1, 1, 1, 1, 1, 1, 1, 1, 1, 1,\n",
       "       1, 1, 1, 1, 1, 1, 1, 1, 1, 1, 1, 1, 1, 1, 1, 1, 1, 1, 1, 1, 1, 1,\n",
       "       1, 1, 1, 1, 1, 1, 1, 1, 1, 1, 1, 1, 1, 1, 1, 1, 1, 1, 1, 1, 1, 1,\n",
       "       1, 1, 1, 1, 1, 1, 1, 1, 1, 1, 1, 1, 1, 1, 1, 1, 1, 1, 2, 1, 1, 1,\n",
       "       1, 1, 1, 1, 1, 1, 1, 1, 1, 1, 1, 1, 0, 0, 0, 0, 0, 0, 0, 0, 0, 0,\n",
       "       0, 0, 0, 0, 0, 0, 0, 0, 0, 0, 0, 0, 0, 0, 0, 0, 0, 0, 0, 0, 0, 0,\n",
       "       0, 0, 0, 0, 0, 0, 0, 0, 0, 0, 0, 0, 0, 0, 0, 0, 0, 0, 0, 0, 0, 0,\n",
       "       0, 0, 0, 0, 0, 0, 0, 0, 0, 0, 0, 0, 0, 0, 0, 0, 0, 0, 0, 0, 0, 0,\n",
       "       0, 0, 0, 0, 0, 0, 0, 0, 0, 0, 0, 0, 0, 0, 0, 0, 0, 0, 0, 0, 0, 0,\n",
       "       0, 0, 2, 2, 2, 2, 2, 2, 2, 2, 2, 2, 2, 2, 2, 2, 2, 2, 2, 2, 2, 2,\n",
       "       2, 2, 2, 2, 2, 2, 2, 2, 2, 2, 2, 2, 2, 2, 2, 2, 2, 2, 2, 0, 2, 2,\n",
       "       2, 2, 2, 2, 2, 2, 2, 2, 2, 2, 2, 2, 2, 2, 2, 2, 2, 2, 2, 2, 2, 2,\n",
       "       2, 0, 2, 2, 2, 2, 2, 2, 2, 2, 2, 2, 2, 2, 2, 2, 2, 2, 2, 2, 2, 2,\n",
       "       2, 2, 2, 2, 2, 2, 2, 2, 2, 2, 2, 2, 2, 1]),\n",
       "       array([[3.04367119, 1.01541041],\n",
       "       [1.95399466, 5.02557006],\n",
       "       [6.03366736, 3.00052511]]),\n",
       "       0.794176363371587], dtype=object)"
      ]
     },
     "execution_count": 16,
     "metadata": {},
     "output_type": "execute_result"
    }
   ],
   "source": [
    "k_means(data, 3, 20, 10)"
   ]
  },
  {
   "cell_type": "code",
   "execution_count": null,
   "metadata": {},
   "outputs": [],
   "source": []
  },
  {
   "cell_type": "code",
   "execution_count": null,
   "metadata": {},
   "outputs": [],
   "source": []
  }
 ],
 "metadata": {
  "kernelspec": {
   "display_name": "Python 3",
   "language": "python",
   "name": "python3"
  },
  "language_info": {
   "codemirror_mode": {
    "name": "ipython",
    "version": 3
   },
   "file_extension": ".py",
   "mimetype": "text/x-python",
   "name": "python",
   "nbconvert_exporter": "python",
   "pygments_lexer": "ipython3",
   "version": "3.6.5"
  },
  "varInspector": {
   "cols": {
    "lenName": 16,
    "lenType": 16,
    "lenVar": 40
   },
   "kernels_config": {
    "python": {
     "delete_cmd_postfix": "",
     "delete_cmd_prefix": "del ",
     "library": "var_list.py",
     "varRefreshCmd": "print(var_dic_list())"
    },
    "r": {
     "delete_cmd_postfix": ") ",
     "delete_cmd_prefix": "rm(",
     "library": "var_list.r",
     "varRefreshCmd": "cat(var_dic_list()) "
    }
   },
   "oldHeight": 121.933334,
   "position": {
    "height": "323px",
    "left": "557.267px",
    "right": "20px",
    "top": "110px",
    "width": "397px"
   },
   "types_to_exclude": [
    "module",
    "function",
    "builtin_function_or_method",
    "instance",
    "_Feature"
   ],
   "varInspector_section_display": "block",
   "window_display": false
  }
 },
 "nbformat": 4,
 "nbformat_minor": 2
}
