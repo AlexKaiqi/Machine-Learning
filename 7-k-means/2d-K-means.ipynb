{
 "cells": [
  {
   "cell_type": "markdown",
   "metadata": {},
   "source": [
    "# K-means"
   ]
  },
  {
   "cell_type": "code",
   "execution_count": 7,
   "metadata": {},
   "outputs": [],
   "source": [
    "import matplotlib.pyplot as plt\n",
    "import pandas as pd\n",
    "import scipy.io as sio\n",
    "import numpy as np"
   ]
  },
  {
   "cell_type": "code",
   "execution_count": 8,
   "metadata": {},
   "outputs": [],
   "source": [
    "mat = sio.loadmat('ex7data2.mat')"
   ]
  },
  {
   "cell_type": "code",
   "execution_count": 9,
   "metadata": {},
   "outputs": [],
   "source": [
    "data = pd.DataFrame(mat.get('X'), columns=['X1', 'X2'])"
   ]
  },
  {
   "cell_type": "code",
   "execution_count": 10,
   "metadata": {},
   "outputs": [
    {
     "data": {
      "text/html": [
       "<div>\n",
       "<style scoped>\n",
       "    .dataframe tbody tr th:only-of-type {\n",
       "        vertical-align: middle;\n",
       "    }\n",
       "\n",
       "    .dataframe tbody tr th {\n",
       "        vertical-align: top;\n",
       "    }\n",
       "\n",
       "    .dataframe thead th {\n",
       "        text-align: right;\n",
       "    }\n",
       "</style>\n",
       "<table border=\"1\" class=\"dataframe\">\n",
       "  <thead>\n",
       "    <tr style=\"text-align: right;\">\n",
       "      <th></th>\n",
       "      <th>X1</th>\n",
       "      <th>X2</th>\n",
       "    </tr>\n",
       "  </thead>\n",
       "  <tbody>\n",
       "    <tr>\n",
       "      <th>119</th>\n",
       "      <td>2.543715</td>\n",
       "      <td>0.957327</td>\n",
       "    </tr>\n",
       "    <tr>\n",
       "      <th>167</th>\n",
       "      <td>2.144911</td>\n",
       "      <td>1.135824</td>\n",
       "    </tr>\n",
       "    <tr>\n",
       "      <th>252</th>\n",
       "      <td>6.010180</td>\n",
       "      <td>2.724013</td>\n",
       "    </tr>\n",
       "  </tbody>\n",
       "</table>\n",
       "</div>"
      ],
      "text/plain": [
       "           X1        X2\n",
       "119  2.543715  0.957327\n",
       "167  2.144911  1.135824\n",
       "252  6.010180  2.724013"
      ]
     },
     "execution_count": 10,
     "metadata": {},
     "output_type": "execute_result"
    }
   ],
   "source": [
    "data.sample(3)"
   ]
  },
  {
   "cell_type": "code",
   "execution_count": 11,
   "metadata": {},
   "outputs": [
    {
     "data": {
      "text/plain": [
       "<matplotlib.collections.PathCollection at 0x24749ad7320>"
      ]
     },
     "execution_count": 11,
     "metadata": {},
     "output_type": "execute_result"
    },
    {
     "data": {
      "image/png": "[encoded data removed]",
      "text/plain": [
       "<Figure size 432x288 with 1 Axes>"
      ]
     },
     "metadata": {
      "needs_background": "light"
     },
     "output_type": "display_data"
    }
   ],
   "source": [
    "plt.scatter(data.X1, data.X2)"
   ]
  },
  {
   "cell_type": "markdown",
   "metadata": {},
   "source": [
    "### Helper functions"
   ]
  },
  {
   "cell_type": "code",
   "execution_count": 12,
   "metadata": {},
   "outputs": [],
   "source": [
    "def combine_data_C(data, C):\n",
    "    \"\"\"combine C (centoid number which a sample belongs to) with data\"\"\"\n",
    "    data_with_c = data.copy()\n",
    "    data_with_c['C'] = C\n",
    "    return data_with_c\n",
    "\n",
    "def cost(data, centroids, C):\n",
    "    \"\"\"calculate cost of current cluster state\"\"\"\n",
    "    m = data.shape[0]\n",
    "    expand_C_with_centroids = centroids[C]\n",
    "    distances = np.apply_along_axis(np.linalg.norm, # this function returns l2 norm\n",
    "                                    axis=1, \n",
    "                                    arr=data.values - expand_C_with_centroids\n",
    "                                   )\n",
    "    return distances.sum() / m"
   ]
  },
  {
   "cell_type": "markdown",
   "metadata": {},
   "source": [
    "### Step 1: Randomly choose k centroids from data set"
   ]
  },
  {
   "cell_type": "code",
   "execution_count": 13,
   "metadata": {},
   "outputs": [],
   "source": [
    "def random_init(data, k):\n",
    "    return data.sample(k).values"
   ]
  },
  {
   "cell_type": "code",
   "execution_count": 14,
   "metadata": {},
   "outputs": [
    {
     "data": {
      "text/plain": [
       "array([[3.27844295, 1.75043926],\n",
       "       [5.3627205 , 3.14681192],\n",
       "       [2.02134502, 4.41267445]])"
      ]
     },
     "execution_count": 14,
     "metadata": {},
     "output_type": "execute_result"
    }
   ],
   "source": [
    "init_centroids = random_init(data, 3)\n",
    "init_centroids"
   ]
  },
  {
   "cell_type": "markdown",
   "metadata": {},
   "source": [
    "### Step 2: Assign cluster "
   ]
  },
  {
   "cell_type": "code",
   "execution_count": 15,
   "metadata": {},
   "outputs": [],
   "source": [
    "def _find_your_cluster(x, centroids):\n",
    "    \"\"\"find which centoid the sample belongs to. choose the one with lowest l2 norm\"\"\"\n",
    "    distances = np.apply_along_axis(func1d=np.linalg.norm, # this function returns l2 norm\n",
    "                                    axis=1, \n",
    "                                    arr=centroids - x # numpy broadcast\n",
    "                                   )\n",
    "    return np.argmin(distances)\n",
    "\n",
    "def assign_cluster(data, centroids):\n",
    "    \"\"\"\n",
    "    assign cluster for each node in data.\n",
    "    \"\"\"\n",
    "    return np.apply_along_axis(lambda x: _find_your_cluster(x, centroids), \n",
    "                               axis=1, \n",
    "                               arr=data.values)"
   ]
  },
  {
   "cell_type": "code",
   "execution_count": 16,
   "metadata": {},
   "outputs": [
    {
     "name": "stdout",
     "output_type": "stream",
     "text": [
      "1.0400229188558638\n"
     ]
    },
    {
     "data": {
      "text/html": [
       "<div>\n",
       "<style scoped>\n",
       "    .dataframe tbody tr th:only-of-type {\n",
       "        vertical-align: middle;\n",
       "    }\n",
       "\n",
       "    .dataframe tbody tr th {\n",
       "        vertical-align: top;\n",
       "    }\n",
       "\n",
       "    .dataframe thead th {\n",
       "        text-align: right;\n",
       "    }\n",
       "</style>\n",
       "<table border=\"1\" class=\"dataframe\">\n",
       "  <thead>\n",
       "    <tr style=\"text-align: right;\">\n",
       "      <th></th>\n",
       "      <th>X1</th>\n",
       "      <th>X2</th>\n",
       "      <th>C</th>\n",
       "    </tr>\n",
       "  </thead>\n",
       "  <tbody>\n",
       "    <tr>\n",
       "      <th>115</th>\n",
       "      <td>2.951770</td>\n",
       "      <td>0.895831</td>\n",
       "      <td>0</td>\n",
       "    </tr>\n",
       "    <tr>\n",
       "      <th>25</th>\n",
       "      <td>2.178936</td>\n",
       "      <td>5.297587</td>\n",
       "      <td>2</td>\n",
       "    </tr>\n",
       "    <tr>\n",
       "      <th>160</th>\n",
       "      <td>3.936160</td>\n",
       "      <td>1.462029</td>\n",
       "      <td>0</td>\n",
       "    </tr>\n",
       "  </tbody>\n",
       "</table>\n",
       "</div>"
      ],
      "text/plain": [
       "           X1        X2  C\n",
       "115  2.951770  0.895831  0\n",
       "25   2.178936  5.297587  2\n",
       "160  3.936160  1.462029  0"
      ]
     },
     "execution_count": 16,
     "metadata": {},
     "output_type": "execute_result"
    }
   ],
   "source": [
    "C = assign_cluster(data, init_centroids)\n",
    "data_with_c = combine_data_C(data, C)\n",
    "print(cost(data, init_centroids, C))\n",
    "data_with_c.sample(3)"
   ]
  },
  {
   "cell_type": "markdown",
   "metadata": {},
   "source": [
    "### Step 3: Calculate new centroids "
   ]
  },
  {
   "cell_type": "code",
   "execution_count": 17,
   "metadata": {},
   "outputs": [],
   "source": [
    "def new_centroids(data, C):\n",
    "    \"\"\"calculate new centroids\"\"\"\n",
    "    data_with_c = combine_data_C(data, C)\n",
    "    return data_with_c.groupby('C', as_index=False).mean().sort_values(by='C').drop('C', axis=1).values\n"
   ]
  },
  {
   "cell_type": "code",
   "execution_count": 18,
   "metadata": {},
   "outputs": [
    {
     "name": "stdout",
     "output_type": "stream",
     "text": [
      "0.794176363371587\n"
     ]
    },
    {
     "data": {
      "text/plain": [
       "array([[3.04367119, 1.01541041],\n",
       "       [6.03366736, 3.00052511],\n",
       "       [1.95399466, 5.02557006]])"
      ]
     },
     "execution_count": 18,
     "metadata": {},
     "output_type": "execute_result"
    }
   ],
   "source": [
    "centroids = new_centroids(data, C)\n",
    "print(cost(data, centroids, C))\n",
    "centroids"
   ]
  },
  {
   "cell_type": "markdown",
   "metadata": {},
   "source": [
    "# Iterate througn step 2 to step3"
   ]
  },
  {
   "cell_type": "code",
   "execution_count": 19,
   "metadata": {},
   "outputs": [],
   "source": [
    "def _k_means_iter(data, k, epoch=100, tol=0.0001):\n",
    "    \"\"\"one shot k-means with early break\n",
    "    Parameters:\n",
    "        data: DataFrame -> raw data\n",
    "        k: int -> number of clusters\n",
    "        epoch: int -> max number of iterations\n",
    "        tol: float -> improvement over last iteration\n",
    "    \"\"\"\n",
    "    centroids = random_init(data, k)\n",
    "    cost_progress = []\n",
    "    for i in range(epoch):\n",
    "        # cluster assign\n",
    "        C = assign_cluster(data, centroids)\n",
    "        \n",
    "        # calculate the cost \n",
    "        cost_progress.append(cost(data, centroids, C))\n",
    "        print('running epoch {}, {}'.format(i, cost_progress[-1]))\n",
    "        \n",
    "        # calculate new centroids\n",
    "        centroids = new_centroids(data, C)\n",
    "        \n",
    "        if len(cost_progress) > 1: # at least two iteration\n",
    "            if (np.abs(cost_progress[-1] - cost_progress[-2])) / cost_progress[-1] < tol: # nothing to improve\n",
    "                break\n",
    "        \n",
    "    return C, centroids, cost_progress[-1]"
   ]
  },
  {
   "cell_type": "code",
   "execution_count": 20,
   "metadata": {},
   "outputs": [
    {
     "name": "stdout",
     "output_type": "stream",
     "text": [
      "running epoch 0, 1.7964720713984412\n",
      "running epoch 1, 1.2366431449239264\n",
      "running epoch 2, 0.8732996469849419\n",
      "running epoch 3, 0.7935928938302486\n",
      "running epoch 4, 0.794176363371587\n",
      "running epoch 5, 0.794176363371587\n"
     ]
    },
    {
     "data": {
      "text/plain": [
       "<matplotlib.collections.PathCollection at 0x24749b5b160>"
      ]
     },
     "execution_count": 20,
     "metadata": {},
     "output_type": "execute_result"
    },
    {
     "data": {
      "image/png": "[encoded data removed]",
      "text/plain": [
       "<Figure size 432x288 with 1 Axes>"
      ]
     },
     "metadata": {
      "needs_background": "light"
     },
     "output_type": "display_data"
    }
   ],
   "source": [
    "C, centroids, _ = _k_means_iter(data, 3, 20)\n",
    "plt.scatter(data.X1, data.X2, s=8, c=C, cmap=\"Paired\")"
   ]
  },
  {
   "cell_type": "markdown",
   "metadata": {},
   "source": [
    "## Multiple random initialization\n",
    "K-means might stuck in local optimal, so we need several random initialization to avoid that"
   ]
  },
  {
   "cell_type": "code",
   "execution_count": 21,
   "metadata": {},
   "outputs": [],
   "source": [
    "def k_means(data, k, epoch=100, n_init=5):\n",
    "    \"\"\"do multiple random init and pick the best one to return\"\"\"\n",
    "    tries = np.array([_k_means_iter(data, k, epoch) for _ in range(n_init)])\n",
    "    least_cost_idx = np.argmin(tries[:, -1])\n",
    "    print(\"least cost idx: \", least_cost_idx)\n",
    "    return tries[least_cost_idx]"
   ]
  },
  {
   "cell_type": "code",
   "execution_count": 22,
   "metadata": {},
   "outputs": [
    {
     "name": "stdout",
     "output_type": "stream",
     "text": [
      "running epoch 0, 1.5270031501612262\n",
      "running epoch 1, 1.4978246568009341\n",
      "running epoch 2, 1.461756108454274\n",
      "running epoch 3, 1.4600470292904584\n",
      "running epoch 4, 1.459802667515615\n",
      "running epoch 5, 1.4596820336276082\n",
      "running epoch 0, 1.9093171570998837\n",
      "running epoch 1, 1.4952592551836572\n",
      "running epoch 2, 1.4612098443426171\n",
      "running epoch 3, 1.4596193410249212\n",
      "running epoch 4, 1.4596193410249212\n",
      "running epoch 0, 1.7272028413799854\n",
      "running epoch 1, 1.4637251948125183\n",
      "running epoch 2, 1.4610787976088766\n",
      "running epoch 3, 1.4609658644589\n",
      "running epoch 0, 1.6650231420022996\n",
      "running epoch 1, 1.425335527886573\n",
      "running epoch 2, 0.79854766984709\n",
      "running epoch 3, 0.794176363371587\n",
      "running epoch 4, 0.794176363371587\n",
      "running epoch 0, 1.8248664005113187\n",
      "running epoch 1, 1.4640572719983138\n",
      "running epoch 2, 1.46057293049808\n",
      "running epoch 3, 1.459465757575749\n",
      "running epoch 4, 1.4596193410249212\n",
      "running epoch 5, 1.4596193410249212\n",
      "least cost idx:  3\n"
     ]
    },
    {
     "data": {
      "text/plain": [
       "<matplotlib.collections.PathCollection at 0x24749bc5550>"
      ]
     },
     "execution_count": 22,
     "metadata": {},
     "output_type": "execute_result"
    },
    {
     "data": {
      "image/png": "[encoded data removed]",
      "text/plain": [
       "<Figure size 432x288 with 1 Axes>"
      ]
     },
     "metadata": {
      "needs_background": "light"
     },
     "output_type": "display_data"
    }
   ],
   "source": [
    "least_cost_C, least_cost_centroids, least_cost = k_means(data, 3, 20, 5)\n",
    "plt.scatter(data.X1, data.X2, s=8, c=least_cost_C, cmap='Paired')"
   ]
  },
  {
   "cell_type": "code",
   "execution_count": null,
   "metadata": {},
   "outputs": [],
   "source": []
  }
 ],
 "metadata": {
  "kernelspec": {
   "display_name": "Python 3",
   "language": "python",
   "name": "python3"
  },
  "language_info": {
   "codemirror_mode": {
    "name": "ipython",
    "version": 3
   },
   "file_extension": ".py",
   "mimetype": "text/x-python",
   "name": "python",
   "nbconvert_exporter": "python",
   "pygments_lexer": "ipython3",
   "version": "3.6.8"
  },
  "varInspector": {
   "cols": {
    "lenName": 16,
    "lenType": 16,
    "lenVar": 40
   },
   "kernels_config": {
    "python": {
     "delete_cmd_postfix": "",
     "delete_cmd_prefix": "del ",
     "library": "var_list.py",
     "varRefreshCmd": "print(var_dic_list())"
    },
    "r": {
     "delete_cmd_postfix": ") ",
     "delete_cmd_prefix": "rm(",
     "library": "var_list.r",
     "varRefreshCmd": "cat(var_dic_list()) "
    }
   },
   "oldHeight": 121.933334,
   "position": {
    "height": "323px",
    "left": "557.267px",
    "right": "20px",
    "top": "110px",
    "width": "397px"
   },
   "types_to_exclude": [
    "module",
    "function",
    "builtin_function_or_method",
    "instance",
    "_Feature"
   ],
   "varInspector_section_display": "block",
   "window_display": false
  }
 },
 "nbformat": 4,
 "nbformat_minor": 2
}
